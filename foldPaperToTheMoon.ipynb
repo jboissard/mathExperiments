{
 "cells": [
  {
   "cell_type": "code",
   "execution_count": 29,
   "metadata": {
    "collapsed": true
   },
   "outputs": [],
   "source": [
    "x = .0001\n",
    "y = 384400000"
   ]
  },
  {
   "cell_type": "code",
   "execution_count": 30,
   "metadata": {
    "collapsed": false
   },
   "outputs": [],
   "source": [
    "import numpy as np\n",
    "n = (np.log(y) - np.log(x))/np.log(2)"
   ]
  },
  {
   "cell_type": "code",
   "execution_count": 31,
   "metadata": {
    "collapsed": true
   },
   "outputs": [],
   "source": [
    "n = (np.log(y/x))/np.log(2)"
   ]
  },
  {
   "cell_type": "code",
   "execution_count": 32,
   "metadata": {
    "collapsed": false
   },
   "outputs": [
    {
     "data": {
      "text/plain": [
       "41.805745474760016"
      ]
     },
     "execution_count": 32,
     "metadata": {},
     "output_type": "execute_result"
    }
   ],
   "source": [
    "n"
   ]
  },
  {
   "cell_type": "code",
   "execution_count": 33,
   "metadata": {
    "collapsed": true
   },
   "outputs": [],
   "source": [
    "def f(n):\n",
    "    return x * 2**n"
   ]
  },
  {
   "cell_type": "code",
   "execution_count": 35,
   "metadata": {
    "collapsed": false
   },
   "outputs": [
    {
     "data": {
      "text/plain": [
       "1.2516975402832031e-06"
      ]
     },
     "execution_count": 35,
     "metadata": {},
     "output_type": "execute_result"
    }
   ],
   "source": [
    "f(n) - y"
   ]
  },
  {
   "cell_type": "code",
   "execution_count": 20,
   "metadata": {
    "collapsed": false
   },
   "outputs": [
    {
     "name": "stdout",
     "output_type": "stream",
     "text": [
      "1:\t0.0002\n",
      "2:\t0.0004\n",
      "3:\t0.0008\n",
      "4:\t0.0016\n",
      "5:\t0.0032\n",
      "6:\t0.0064\n",
      "7:\t0.0128\n",
      "8:\t0.0256\n",
      "9:\t0.0512\n",
      "10:\t0.1024\n",
      "11:\t0.2048\n",
      "12:\t0.4096\n",
      "13:\t0.8192\n",
      "14:\t1.6384\n",
      "15:\t3.2768\n",
      "16:\t6.5536\n",
      "17:\t13.1072\n",
      "18:\t26.2144\n",
      "19:\t52.4288\n",
      "20:\t104.8576\n",
      "21:\t209.7152\n",
      "22:\t419.4304\n",
      "23:\t838.8608\n",
      "24:\t1677.7216\n",
      "25:\t3355.4432\n",
      "26:\t6710.8864\n",
      "27:\t13421.7728\n",
      "28:\t26843.5456\n",
      "29:\t53687.0912\n",
      "30:\t107374.1824\n",
      "31:\t214748.3648\n",
      "32:\t429496.7296\n",
      "33:\t858993.4592\n",
      "34:\t1717986.9184\n",
      "35:\t3435973.8368\n",
      "36:\t6871947.6736\n",
      "37:\t13743895.3472\n",
      "38:\t27487790.6944\n",
      "39:\t54975581.3888\n",
      "40:\t109951162.7776\n",
      "41:\t219902325.5552\n",
      "42:\t439804651.1104\n"
     ]
    }
   ],
   "source": [
    "i = 0\n",
    "\n",
    "l = x\n",
    "\n",
    "while i < n:\n",
    "    i += 1\n",
    "    l *= 2\n",
    "    print('{}:\\t{}'.format(i, l))"
   ]
  },
  {
   "cell_type": "code",
   "execution_count": 37,
   "metadata": {
    "collapsed": false
   },
   "outputs": [
    {
     "data": {
      "image/png": "[encoded data removed]",
      "text/plain": [
       "<matplotlib.figure.Figure at 0x1140c6438>"
      ]
     },
     "metadata": {},
     "output_type": "display_data"
    }
   ],
   "source": [
    "import matplotlib.pyplot as plt\n",
    "\n",
    "px = np.arange(n)\n",
    "py = f(px)\n",
    "plt.plot(px, py)\n",
    "plt.show(x)"
   ]
  },
  {
   "cell_type": "code",
   "execution_count": null,
   "metadata": {
    "collapsed": true
   },
   "outputs": [],
   "source": []
  }
 ],
 "metadata": {
  "anaconda-cloud": {},
  "kernelspec": {
   "display_name": "Python [default]",
   "language": "python",
   "name": "python3"
  },
  "language_info": {
   "codemirror_mode": {
    "name": "ipython",
    "version": 3
   },
   "file_extension": ".py",
   "mimetype": "text/x-python",
   "name": "python",
   "nbconvert_exporter": "python",
   "pygments_lexer": "ipython3",
   "version": "3.5.2"
  }
 },
 "nbformat": 4,
 "nbformat_minor": 1
}
